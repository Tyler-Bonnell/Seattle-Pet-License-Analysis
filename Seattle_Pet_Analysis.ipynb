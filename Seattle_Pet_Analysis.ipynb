{
 "cells": [
  {
   "cell_type": "markdown",
   "metadata": {},
   "source": [
    "# Exploring Seattle Pet Licenses"
   ]
  },
  {
   "cell_type": "code",
   "execution_count": 147,
   "metadata": {},
   "outputs": [
    {
     "name": "stdout",
     "output_type": "stream",
     "text": [
      "WindowsPath('C:/Users/tbonn/Code/Python/Local/Data_Nash/Excel_File/Data/Seattle_Pet_Licenses.xlsx')\n"
     ]
    }
   ],
   "source": [
    "# Load Packages\n",
    "from pprint import pprint\n",
    "import numpy as np \n",
    "import pandas as pd\n",
    "import matplotlib.pyplot as plt\n",
    "import seaborn as sns\n",
    "from pathlib import Path\n",
    "\n",
    "# Assess Directories\n",
    "# Path.home() # Profile root directory\n",
    "Path.cwd() # https://realpython.com/python-pathlib/\n",
    "# Path('c:/Users/tbonn/Code/Python/Local/Data_Nash/Excel_File').parent # Parent directory of the string\n",
    "\n",
    "# Create Data Filepath\n",
    "# data_filepath = Path.cwd() / 'Data' / 'Seattle_Pet_Licenses.xlsx' # / pastes filepaths together\n",
    "data_filepath = Path(r'C:\\Users\\tbonn\\Code\\Python\\Local\\Data_Nash\\Excel_File\\Data\\Seattle_Pet_Licenses.xlsx')\n",
    "pprint(data_filepath)\n"
   ]
  },
  {
   "cell_type": "markdown",
   "metadata": {},
   "source": [
    "## Read in the Data\n",
    "Source: [Seattle Open Data Portal](https://data.seattle.gov/Community/Seattle-Pet-Licenses/jguv-t9rb/about_data)"
   ]
  },
  {
   "cell_type": "code",
   "execution_count": 148,
   "metadata": {},
   "outputs": [],
   "source": [
    "# Read In Data\n",
    "dat = pd.read_excel(data_filepath)"
   ]
  },
  {
   "cell_type": "markdown",
   "metadata": {},
   "source": [
    "## Explore the Data"
   ]
  },
  {
   "cell_type": "code",
   "execution_count": 149,
   "metadata": {},
   "outputs": [
    {
     "name": "stdout",
     "output_type": "stream",
     "text": [
      "<class 'pandas.core.frame.DataFrame'>\n",
      "RangeIndex: 42526 entries, 0 to 42525\n",
      "Data columns (total 7 columns):\n",
      " #   Column              Non-Null Count  Dtype \n",
      "---  ------              --------------  ----- \n",
      " 0   License Issue Date  42526 non-null  object\n",
      " 1   License Number      42526 non-null  object\n",
      " 2   Animal's Name       42485 non-null  object\n",
      " 3   Species             42526 non-null  object\n",
      " 4   Primary Breed       42526 non-null  object\n",
      " 5   Secondary Breed     28056 non-null  object\n",
      " 6   ZIP Code            42409 non-null  object\n",
      "dtypes: object(7)\n",
      "memory usage: 2.3+ MB\n",
      "License Issue Date        0\n",
      "License Number            0\n",
      "Animal's Name            41\n",
      "Species                   0\n",
      "Primary Breed             0\n",
      "Secondary Breed       14470\n",
      "ZIP Code                117\n",
      "dtype: int64\n"
     ]
    }
   ],
   "source": [
    "# Summary Peak of the Data\n",
    "dat.head(10)\n",
    "\n",
    "# Column Names & Nrows/Ncols\n",
    "dat.columns\n",
    "dat.shape\n",
    "\n",
    "# Descriptions of Variable Types\n",
    "dat.info() # Python Data Types: https://pbpython.com/pandas_dtypes.html\n",
    "\n",
    "# Brief Summary Statistics of Variables\n",
    "dat.describe()\n",
    "print(dat.isnull().sum()) # Number of null values in each column."
   ]
  },
  {
   "cell_type": "markdown",
   "metadata": {},
   "source": [
    "## Clean Data Frame"
   ]
  },
  {
   "cell_type": "code",
   "execution_count": 150,
   "metadata": {},
   "outputs": [
    {
     "name": "stdout",
     "output_type": "stream",
     "text": [
      "0   2015-12-18\n",
      "1   2016-06-14\n",
      "2   2016-08-04\n",
      "3   2019-02-13\n",
      "4   2019-08-10\n",
      "Name: Date, dtype: datetime64[ns]\n"
     ]
    },
    {
     "name": "stderr",
     "output_type": "stream",
     "text": [
      "C:\\Users\\tbonn\\AppData\\Local\\Temp\\ipykernel_21512\\1416174941.py:19: SettingWithCopyWarning: \n",
      "A value is trying to be set on a copy of a slice from a DataFrame.\n",
      "Try using .loc[row_indexer,col_indexer] = value instead\n",
      "\n",
      "See the caveats in the documentation: https://pandas.pydata.org/pandas-docs/stable/user_guide/indexing.html#returning-a-view-versus-a-copy\n",
      "  dat_clean['Year'] = dat_clean['Date'].dt.year\n",
      "C:\\Users\\tbonn\\AppData\\Local\\Temp\\ipykernel_21512\\1416174941.py:20: SettingWithCopyWarning: \n",
      "A value is trying to be set on a copy of a slice from a DataFrame.\n",
      "Try using .loc[row_indexer,col_indexer] = value instead\n",
      "\n",
      "See the caveats in the documentation: https://pandas.pydata.org/pandas-docs/stable/user_guide/indexing.html#returning-a-view-versus-a-copy\n",
      "  dat_clean['Month'] = dat_clean['Date'].dt.month\n",
      "C:\\Users\\tbonn\\AppData\\Local\\Temp\\ipykernel_21512\\1416174941.py:21: SettingWithCopyWarning: \n",
      "A value is trying to be set on a copy of a slice from a DataFrame.\n",
      "Try using .loc[row_indexer,col_indexer] = value instead\n",
      "\n",
      "See the caveats in the documentation: https://pandas.pydata.org/pandas-docs/stable/user_guide/indexing.html#returning-a-view-versus-a-copy\n",
      "  dat_clean['Day'] = dat_clean['Date'].dt.day\n"
     ]
    }
   ],
   "source": [
    "## Convert Date Strings to Date Variables\n",
    "dat['Date'] = pd.to_datetime(dat['License Issue Date'], format=\"%B %d %Y\"); pprint(dat['Date'].head())\n",
    "\n",
    "## Order Rows by Date (Asc; Earliest to Most Recent)\n",
    "dat.sort_values('Date', ascending=True)\n",
    "\n",
    "## Rename and Drop Variables\n",
    "dat = dat.rename(columns= {\n",
    "   'License Number': 'License_Number',\n",
    "   'Animal\\'s Name': \"Animal_Name\",\n",
    "   'Primary Breed': 'Primary_Breed',\n",
    "   'Secondary Breed': 'Secondary_Breed',\n",
    "   'ZIP Code': 'Zip'}).drop(columns = ['License Issue Date'])\n",
    "\n",
    "col_order = ['Date', 'Zip', 'License_Number', 'Species', 'Primary_Breed', 'Secondary_Breed', 'Animal_Name']\n",
    "dat_clean = dat[col_order]\n",
    "\n",
    "## Extract Year and Month Variables from Date\n",
    "dat_clean['Year'] = dat_clean['Date'].dt.year\n",
    "dat_clean['Month'] = dat_clean['Date'].dt.month\n",
    "dat_clean['Day'] = dat_clean['Date'].dt.day"
   ]
  },
  {
   "cell_type": "markdown",
   "metadata": {},
   "source": [
    "## Summary Metrics"
   ]
  },
  {
   "cell_type": "code",
   "execution_count": 151,
   "metadata": {},
   "outputs": [],
   "source": [
    "# Define Custom Functions\n",
    "\n",
    "## 1) Find Top Breeds by Species\n",
    "def find_top_breed(df, species, breed_type = 'Primary_Breed'):\n",
    "    \"\"\"Extract the top breed for a designated species\"\"\"\n",
    "\n",
    "    # 1) Generate Summary DF (Counts of Primary/Seconday Breeds Grouped by Species)\n",
    "    top_breeds = (\n",
    "        df[['Species', breed_type]]\n",
    "        .groupby('Species')\n",
    "        .value_counts()\n",
    "        .reset_index()\n",
    "    )\n",
    "\n",
    "    # 2) Extract Top Breed by Species\n",
    "    breed = (\n",
    "        top_breeds\n",
    "        .query('Species == @species')\n",
    "        .iloc[0]\n",
    "        .reset_index()\n",
    "    )\n",
    "\n",
    "    # 3) Return breed\n",
    "    return breed "
   ]
  },
  {
   "cell_type": "markdown",
   "metadata": {},
   "source": [
    "### Q1: What is the Number of Seattle Pet Licenses (by Species)?"
   ]
  },
  {
   "cell_type": "code",
   "execution_count": 152,
   "metadata": {},
   "outputs": [
    {
     "name": "stderr",
     "output_type": "stream",
     "text": [
      "C:\\Users\\tbonn\\AppData\\Local\\Temp\\ipykernel_21512\\608219963.py:5: FutureWarning: \n",
      "\n",
      "The `ci` parameter is deprecated. Use `errorbar=None` for the same effect.\n",
      "\n",
      "  sns.barplot(data=species_counts, x='Species', y='count', ci=None)\n"
     ]
    },
    {
     "data": {
      "text/plain": [
       "<Axes: xlabel='Species', ylabel='count'>"
      ]
     },
     "execution_count": 152,
     "metadata": {},
     "output_type": "execute_result"
    },
    {
     "data": {
      "image/png": "[encoded data removed]",
      "text/plain": [
       "<Figure size 640x480 with 1 Axes>"
      ]
     },
     "metadata": {},
     "output_type": "display_data"
    }
   ],
   "source": [
    "## Q1: Number of Licenses by Species\n",
    "species_counts = dat_clean['Species'].value_counts() # There were 21 and 2 pet licenses submitted for Goats and Pigs respectively!\n",
    "species_counts = pd.DataFrame(species_counts)\n",
    "\n",
    "sns.barplot(data=species_counts, x='Species', y='count', ci=None)"
   ]
  },
  {
   "cell_type": "markdown",
   "metadata": {},
   "source": [
    "### Q2: What Seattle Zipcode has the greatest number of pet licenses?"
   ]
  },
  {
   "cell_type": "code",
   "execution_count": 153,
   "metadata": {},
   "outputs": [
    {
     "name": "stderr",
     "output_type": "stream",
     "text": [
      "C:\\Users\\tbonn\\AppData\\Local\\Temp\\ipykernel_21512\\771592904.py:4: FutureWarning: \n",
      "\n",
      "The `ci` parameter is deprecated. Use `errorbar=None` for the same effect.\n",
      "\n",
      "  sns.barplot(data=zip_counts, x='Zip', y='count', ci=None)\n"
     ]
    },
    {
     "data": {
      "text/plain": [
       "<Axes: xlabel='Zip', ylabel='count'>"
      ]
     },
     "execution_count": 153,
     "metadata": {},
     "output_type": "execute_result"
    },
    {
     "data": {
      "image/png": "[encoded data removed]",
      "text/plain": [
       "<Figure size 640x480 with 1 Axes>"
      ]
     },
     "metadata": {},
     "output_type": "display_data"
    }
   ],
   "source": [
    "## Q2: Pet Licenses by Zip Code\n",
    "zip_counts = dat_clean['Zip'].value_counts().reset_index()\n",
    "\n",
    "sns.barplot(data=zip_counts, x='Zip', y='count', ci=None)"
   ]
  },
  {
   "cell_type": "markdown",
   "metadata": {},
   "source": [
    "### Q3: How does the number of pet licenses change (year over year)?"
   ]
  },
  {
   "cell_type": "code",
   "execution_count": 155,
   "metadata": {},
   "outputs": [
    {
     "name": "stderr",
     "output_type": "stream",
     "text": [
      "C:\\Users\\tbonn\\AppData\\Local\\Temp\\ipykernel_21512\\1475785609.py:4: FutureWarning: \n",
      "\n",
      "The `ci` parameter is deprecated. Use `errorbar=None` for the same effect.\n",
      "\n",
      "  sns.barplot(data=yearly_counts, x='Year', y='count', ci=None)\n"
     ]
    },
    {
     "data": {
      "text/plain": [
       "<Axes: xlabel='Year', ylabel='count'>"
      ]
     },
     "execution_count": 155,
     "metadata": {},
     "output_type": "execute_result"
    },
    {
     "data": {
      "image/png": "[encoded data removed]",
      "text/plain": [
       "<Figure size 640x480 with 1 Axes>"
      ]
     },
     "metadata": {},
     "output_type": "display_data"
    }
   ],
   "source": [
    "## Q3: Pet Licenses by Year\n",
    "yearly_counts = dat_clean['Year'].value_counts().reset_index()\n",
    "\n",
    "sns.barplot(data=yearly_counts, x='Year', y='count', ci=None)"
   ]
  },
  {
   "cell_type": "markdown",
   "metadata": {},
   "source": [
    "### Q4: What are the most popular primary breeds for each species? "
   ]
  },
  {
   "cell_type": "code",
   "execution_count": 145,
   "metadata": {},
   "outputs": [],
   "source": [
    "## Q4: Most Popular Breeds by Species\n",
    "top_breeds_cat = find_top_breed(df=dat_clean, species='Cat', breed_type='Primary_Breed')\n",
    "top_breeds_dog = find_top_breed(df=dat_clean, species='Dog', breed_type='Primary_Breed')\n",
    "top_breeds_goat = find_top_breed(df=dat_clean, species='Goat', breed_type='Primary_Breed')\n",
    "top_breeds_pig = find_top_breed(df=dat_clean, species='Pig', breed_type='Primary_Breed')"
   ]
  }
 ],
 "metadata": {
  "kernelspec": {
   "display_name": "Python 3",
   "language": "python",
   "name": "python3"
  },
  "language_info": {
   "codemirror_mode": {
    "name": "ipython",
    "version": 3
   },
   "file_extension": ".py",
   "mimetype": "text/x-python",
   "name": "python",
   "nbconvert_exporter": "python",
   "pygments_lexer": "ipython3",
   "version": "3.12.0"
  }
 },
 "nbformat": 4,
 "nbformat_minor": 2
}
