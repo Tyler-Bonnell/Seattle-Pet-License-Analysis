{
 "cells": [
  {
   "cell_type": "markdown",
   "metadata": {},
   "source": [
    "# Exploring Seattle Pet Licenses"
   ]
  },
  {
   "cell_type": "code",
   "execution_count": 6,
   "metadata": {},
   "outputs": [
    {
     "name": "stdout",
     "output_type": "stream",
     "text": [
      "WindowsPath('C:/Users/tbonn/Code/Python/Local/Data_Nash/Excel_File/Data/Seattle_Pet_Licenses.xlsx')\n"
     ]
    }
   ],
   "source": [
    "# Load Packages\n",
    "from pprint import pprint\n",
    "import numpy as np \n",
    "import pandas as pd\n",
    "import matplotlib.pyplot as plt\n",
    "import seaborn as sns\n",
    "from pathlib import Path\n",
    "\n",
    "# Assess Directories\n",
    "# Path.home() # Profile root directory\n",
    "Path.cwd() # https://realpython.com/python-pathlib/\n",
    "# Path('c:/Users/tbonn/Code/Python/Local/Data_Nash/Excel_File').parent # Parent directory of the string\n",
    "\n",
    "# Create Data Filepath\n",
    "# data_filepath = Path.cwd() / 'Data' / 'Seattle_Pet_Licenses.xlsx' # / pastes filepaths together\n",
    "data_filepath = Path(r'C:\\Users\\tbonn\\Code\\Python\\Local\\Data_Nash\\Excel_File\\Data\\Seattle_Pet_Licenses.xlsx')\n",
    "pprint(data_filepath)\n"
   ]
  },
  {
   "cell_type": "markdown",
   "metadata": {},
   "source": [
    "## Read in the Data\n",
    "Source: [Seattle Open Data Portal](https://data.seattle.gov/Community/Seattle-Pet-Licenses/jguv-t9rb/about_data)"
   ]
  },
  {
   "cell_type": "code",
   "execution_count": 7,
   "metadata": {},
   "outputs": [],
   "source": [
    "# Read In Data\n",
    "dat = pd.read_excel(data_filepath)"
   ]
  },
  {
   "cell_type": "markdown",
   "metadata": {},
   "source": [
    "## Explore the Data"
   ]
  },
  {
   "cell_type": "code",
   "execution_count": 8,
   "metadata": {},
   "outputs": [
    {
     "name": "stdout",
     "output_type": "stream",
     "text": [
      "<class 'pandas.core.frame.DataFrame'>\n",
      "RangeIndex: 42526 entries, 0 to 42525\n",
      "Data columns (total 7 columns):\n",
      " #   Column              Non-Null Count  Dtype \n",
      "---  ------              --------------  ----- \n",
      " 0   License Issue Date  42526 non-null  object\n",
      " 1   License Number      42526 non-null  object\n",
      " 2   Animal's Name       42485 non-null  object\n",
      " 3   Species             42526 non-null  object\n",
      " 4   Primary Breed       42526 non-null  object\n",
      " 5   Secondary Breed     28056 non-null  object\n",
      " 6   ZIP Code            42409 non-null  object\n",
      "dtypes: object(7)\n",
      "memory usage: 2.3+ MB\n",
      "License Issue Date        0\n",
      "License Number            0\n",
      "Animal's Name            41\n",
      "Species                   0\n",
      "Primary Breed             0\n",
      "Secondary Breed       14470\n",
      "ZIP Code                117\n",
      "dtype: int64\n"
     ]
    }
   ],
   "source": [
    "# Summary Peak of the Data\n",
    "dat.head(10)\n",
    "\n",
    "# Column Names & Nrows/Ncols\n",
    "dat.columns\n",
    "dat.shape\n",
    "\n",
    "# Descriptions of Variable Types\n",
    "dat.info() # Python Data Types: https://pbpython.com/pandas_dtypes.html\n",
    "\n",
    "# Brief Summary Statistics of Variables\n",
    "dat.describe()\n",
    "print(dat.isnull().sum()) # Number of null values in each column."
   ]
  },
  {
   "cell_type": "markdown",
   "metadata": {},
   "source": [
    "## Clean Data Frame"
   ]
  },
  {
   "cell_type": "code",
   "execution_count": 9,
   "metadata": {},
   "outputs": [
    {
     "name": "stdout",
     "output_type": "stream",
     "text": [
      "0   2015-12-18\n",
      "1   2016-06-14\n",
      "2   2016-08-04\n",
      "3   2019-02-13\n",
      "4   2019-08-10\n",
      "Name: Date, dtype: datetime64[ns]\n"
     ]
    },
    {
     "name": "stderr",
     "output_type": "stream",
     "text": [
      "C:\\Users\\tbonn\\AppData\\Local\\Temp\\ipykernel_25220\\428577855.py:21: SettingWithCopyWarning: \n",
      "A value is trying to be set on a copy of a slice from a DataFrame.\n",
      "Try using .loc[row_indexer,col_indexer] = value instead\n",
      "\n",
      "See the caveats in the documentation: https://pandas.pydata.org/pandas-docs/stable/user_guide/indexing.html#returning-a-view-versus-a-copy\n",
      "  dat_clean['Year'] = dat_clean['Date'].dt.year\n",
      "C:\\Users\\tbonn\\AppData\\Local\\Temp\\ipykernel_25220\\428577855.py:22: SettingWithCopyWarning: \n",
      "A value is trying to be set on a copy of a slice from a DataFrame.\n",
      "Try using .loc[row_indexer,col_indexer] = value instead\n",
      "\n",
      "See the caveats in the documentation: https://pandas.pydata.org/pandas-docs/stable/user_guide/indexing.html#returning-a-view-versus-a-copy\n",
      "  dat_clean['Month'] = dat_clean['Date'].dt.month\n",
      "C:\\Users\\tbonn\\AppData\\Local\\Temp\\ipykernel_25220\\428577855.py:23: SettingWithCopyWarning: \n",
      "A value is trying to be set on a copy of a slice from a DataFrame.\n",
      "Try using .loc[row_indexer,col_indexer] = value instead\n",
      "\n",
      "See the caveats in the documentation: https://pandas.pydata.org/pandas-docs/stable/user_guide/indexing.html#returning-a-view-versus-a-copy\n",
      "  dat_clean['Day'] = dat_clean['Date'].dt.day\n"
     ]
    }
   ],
   "source": [
    "## Convert Date Strings to Date Variables\n",
    "dat['Date'] = pd.to_datetime(dat['License Issue Date'], format=\"%B %d %Y\"); pprint(dat['Date'].head())\n",
    "\n",
    "## Order Rows by Date (Asc; Earliest to Most Recent)\n",
    "dat.sort_values('Date', ascending=True)\n",
    "\n",
    "## Rename and Drop Variables\n",
    "dat = dat.rename(columns= {\n",
    "   'License Number': 'License_Number',\n",
    "   'Animal\\'s Name': \"Animal_Name\",\n",
    "   'Primary Breed': 'Primary_Breed',\n",
    "   'Secondary Breed': 'Secondary_Breed',\n",
    "   'ZIP Code': 'Zip'}).drop(columns = ['License Issue Date'])\n",
    "\n",
    "col_order = ['Date', 'Zip', 'License_Number', 'Species', 'Primary_Breed', 'Secondary_Breed', 'Animal_Name']\n",
    "dat_clean = dat[col_order]\n",
    "\n",
    "del col_order\n",
    "\n",
    "## Extract Year and Month Variables from Date\n",
    "dat_clean['Year'] = dat_clean['Date'].dt.year\n",
    "dat_clean['Month'] = dat_clean['Date'].dt.month\n",
    "dat_clean['Day'] = dat_clean['Date'].dt.day"
   ]
  },
  {
   "cell_type": "markdown",
   "metadata": {},
   "source": [
    "## Pet License Analysis\n",
    "\n",
    "<u>This analysis will seek to answer **5** key questions related to the City of Seattle Pet License Data:</u>\n",
    "\n",
    "1) What is the number of pet licenses granted by month-year? Has the number of pet licenses granted increased over the past few years?\n",
    "2) What day of the year (for each year and across all years) has the highest number of pet licenses filed? \n",
    "3) What is the most popular breed (primary breed) of cats, dogs, goats, and pigs?\n",
    "4) What is the most popular name for cats, dogs, goats, and pigs?\n",
    "5) What Seattle zipcode(s) had the highest and lowest number of pet licenses over the past few years? Are there are notable qualities about these zipcodes that may influence this metric?\n"
   ]
  },
  {
   "cell_type": "code",
   "execution_count": 26,
   "metadata": {},
   "outputs": [],
   "source": [
    "sns.set_style(\"whitegrid\")"
   ]
  },
  {
   "cell_type": "markdown",
   "metadata": {},
   "source": [
    "### Question 1\n",
    "What is the number of pet licenses granted by month-year? Has the number of pet licenses granted increased over the past few years?"
   ]
  },
  {
   "cell_type": "code",
   "execution_count": null,
   "metadata": {},
   "outputs": [],
   "source": [
    "df_q1 = dat_clean\n",
    "\n",
    "# Create Month-Year Variable\n",
    "df_q1['MonthYear'] = df_q1['Date'].dt.to_period('M')\n",
    "\n",
    "# Count Pet License by DateMonth\n",
    "df_q1 = df_q1.groupby('MonthYear').size().reset_index(name='Count')\n",
    "\n",
    "# Create Seaborn Bar Plot\n",
    "plt.figure(figsize=(12, 6)) # Set figure size\n",
    "\n",
    "sns.barplot(data=df_q1, x='MonthYear', y='Count', ci=True)\n",
    "\n",
    "## Configure Titles & Axes\n",
    "plt.title('Number of Seattle Pet Licenses by Month-Year')\n",
    "plt.xlabel('Month-Year')\n",
    "plt.ylabel('Number of Pet Licenses')\n",
    "plt.xticks(rotation=90)\n",
    "\n",
    "plt.show()"
   ]
  },
  {
   "cell_type": "markdown",
   "metadata": {},
   "source": [
    "### Question 2\n",
    "What day of the week are pet licenses most often granted?"
   ]
  },
  {
   "cell_type": "code",
   "execution_count": 44,
   "metadata": {},
   "outputs": [
    {
     "name": "stderr",
     "output_type": "stream",
     "text": [
      "C:\\Users\\tbonn\\AppData\\Local\\Temp\\ipykernel_25220\\473936141.py:5: SettingWithCopyWarning: \n",
      "A value is trying to be set on a copy of a slice from a DataFrame.\n",
      "Try using .loc[row_indexer,col_indexer] = value instead\n",
      "\n",
      "See the caveats in the documentation: https://pandas.pydata.org/pandas-docs/stable/user_guide/indexing.html#returning-a-view-versus-a-copy\n",
      "  df_q2['Weekday'] = df_q2['Date'].dt.day_name()\n",
      "C:\\Users\\tbonn\\AppData\\Local\\Temp\\ipykernel_25220\\473936141.py:9: FutureWarning: \n",
      "\n",
      "Passing `palette` without assigning `hue` is deprecated and will be removed in v0.14.0. Assign the `x` variable to `hue` and set `legend=False` for the same effect.\n",
      "\n",
      "  sns.countplot(data=df_q2, x='Weekday', palette=\"Greens_d\", order = weekday_order)\n"
     ]
    },
    {
     "data": {
      "image/png": "[encoded data removed]",
      "text/plain": [
       "<Figure size 640x480 with 1 Axes>"
      ]
     },
     "metadata": {},
     "output_type": "display_data"
    }
   ],
   "source": [
    "### MOST FREQUENT DAY (ACROSS ALL YEARS ###\n",
    "df_q2 = dat_clean\n",
    "\n",
    "# Create Weekday Variable\n",
    "df_q2['Weekday'] = df_q2['Date'].dt.day_name()\n",
    "\n",
    "# Create Seaborn Countplot\n",
    "weekday_order = ['Monday', 'Tuesday', 'Wednesday','Thursday','Friday','Saturday','Sunday']\n",
    "sns.countplot(data=df_q2, x='Weekday', palette=\"Greens_d\", order = weekday_order)\n",
    "\n",
    "## Configure Titles & Axes\n",
    "plt.title('Number of Seattle Pet Licenses by Weekday')\n",
    "plt.xlabel('Weekday')\n",
    "plt.ylabel('Number of Pet Licenses')\n",
    "\n",
    "plt.show()\n",
    "\n",
    "del weekday_order"
   ]
  },
  {
   "cell_type": "markdown",
   "metadata": {},
   "source": [
    "### Question 3\n",
    "What is the most popular breed (primary breed) of cats, dogs, goats, and pigs?"
   ]
  },
  {
   "cell_type": "code",
   "execution_count": 95,
   "metadata": {},
   "outputs": [
    {
     "name": "stdout",
     "output_type": "stream",
     "text": [
      "The top primary breed for Cat is Domestic Shorthair with a total of 7302 Seattle pet licenses.\n",
      "The top primary breed for Dog is Retriever, Labrador with a total of 3093 Seattle pet licenses.\n",
      "The top primary breed for Goat is Miniature with a total of 21 Seattle pet licenses.\n",
      "The top primary breed for Pig is Pot-Bellied with a total of 2 Seattle pet licenses.\n",
      "The top secondary breed for Cat is Mix with a total of 8737 Seattle pet licenses.\n",
      "The top secondary breed for Dog is Mix with a total of 9650 Seattle pet licenses.\n",
      "The top secondary breed for Goat is Miniature with a total of 8 Seattle pet licenses.\n",
      "The top secondary breed for Pig is Pot-Bellied with a total of 1 Seattle pet licenses.\n"
     ]
    }
   ],
   "source": [
    "# Custom Function \n",
    "def find_top_breed(df, species, breed_type):\n",
    "    \"\"\"Extract the top primary/seconday breed for a species\"\"\"\n",
    "\n",
    "    # 1) Generate Summary DF (Counts of Primary/Seconday Breeds Grouped by Species)\n",
    "    top_breeds = (\n",
    "        df[['Species', breed_type]]\n",
    "        .groupby('Species')\n",
    "        .value_counts()\n",
    "        .reset_index()\n",
    "    )\n",
    "\n",
    "    # 2) Extract Top Breed by Species\n",
    "    breed = (\n",
    "        top_breeds\n",
    "        .query('Species == @species')\n",
    "        .iloc[0]\n",
    "        .reset_index()\n",
    "    )\n",
    "\n",
    "    # 3\n",
    "    if(breed_type == 'Primary_Breed'):\n",
    "        print('The top primary breed for ' + species + ' is ' + breed.iloc[1,1] + ' with a total of ' + str(breed.iloc[2,1]) + ' Seattle pet licenses.')\n",
    "\n",
    "    elif(breed_type == 'Secondary_Breed'):\n",
    "        print('The top secondary breed for ' + species + ' is ' + breed.iloc[1,1] + ' with a total of ' + str(breed.iloc[2,1]) + ' Seattle pet licenses.')\n",
    "\n",
    "\n",
    "## Loop through all Species\n",
    "species = ['Cat','Dog','Goat','Pig']\n",
    "\n",
    "# Print Top Primary Breeds\n",
    "for animal in species:\n",
    "    find_top_breed(df=dat_clean, species = animal, breed_type='Primary_Breed')\n",
    "\n",
    "# Print Top Secondary Breeds\n",
    "for animal in species:\n",
    "    find_top_breed(df=dat_clean, species = animal, breed_type='Secondary_Breed')"
   ]
  },
  {
   "cell_type": "markdown",
   "metadata": {},
   "source": [
    "### Question 4\n",
    "What is the most popular name for cats, dogs, goats, and pigs?"
   ]
  },
  {
   "cell_type": "code",
   "execution_count": 126,
   "metadata": {},
   "outputs": [
    {
     "name": "stdout",
     "output_type": "stream",
     "text": [
      "The most popular name for Cats was: Luna\n",
      "The most popular name for Dogs was: Luna\n",
      "The most popular name for Goats was: Moppet\n",
      "The most popular name for Pigs was: Calvin\n"
     ]
    }
   ],
   "source": [
    "# Count Names by Species\n",
    "df_q4a = (\n",
    "    dat_clean\n",
    "    .groupby('Species')['Animal_Name']\n",
    "    .value_counts()\n",
    "    .reset_index()\n",
    ")\n",
    "\n",
    "# Extract Most Popular Names (by Species)\n",
    "df_q4b = (\n",
    "    dat_clean\n",
    "    .groupby('Species')['Animal_Name']\n",
    "    .value_counts()\n",
    "    .groupby('Species')\n",
    "    .idxmax()\n",
    "    .apply(lambda x: x[1])\n",
    "    .reset_index()\n",
    "    .rename(columns = {'count':'Most_Popular_Name'})\n",
    ")\n",
    "\n",
    "# Define Custom Function to print the answer\n",
    "def print_popular_name(df, species):\n",
    "    \"\"\"Print the most popular name for each species\"\"\"\n",
    "    df_species = df.query('Species == @species')\n",
    "\n",
    "    print('The most popular name for ' + species + 's was: ' + df_species.iloc[0,1])\n",
    "\n",
    "for animal in species:\n",
    "    print_popular_name(df=df_q4b, species = animal)"
   ]
  },
  {
   "cell_type": "markdown",
   "metadata": {},
   "source": [
    "### Q1: What is the Number of Seattle Pet Licenses (by Species)?"
   ]
  },
  {
   "cell_type": "code",
   "execution_count": 152,
   "metadata": {},
   "outputs": [
    {
     "name": "stderr",
     "output_type": "stream",
     "text": [
      "C:\\Users\\tbonn\\AppData\\Local\\Temp\\ipykernel_21512\\608219963.py:5: FutureWarning: \n",
      "\n",
      "The `ci` parameter is deprecated. Use `errorbar=None` for the same effect.\n",
      "\n",
      "  sns.barplot(data=species_counts, x='Species', y='count', ci=None)\n"
     ]
    },
    {
     "data": {
      "text/plain": [
       "<Axes: xlabel='Species', ylabel='count'>"
      ]
     },
     "execution_count": 152,
     "metadata": {},
     "output_type": "execute_result"
    },
    {
     "data": {
      "image/png": "[encoded data removed]",
      "text/plain": [
       "<Figure size 640x480 with 1 Axes>"
      ]
     },
     "metadata": {},
     "output_type": "display_data"
    }
   ],
   "source": [
    "## Q1: Number of Licenses by Species\n",
    "species_counts = dat_clean['Species'].value_counts() # There were 21 and 2 pet licenses submitted for Goats and Pigs respectively!\n",
    "species_counts = pd.DataFrame(species_counts)\n",
    "\n",
    "sns.barplot(data=species_counts, x='Species', y='count', ci=None)"
   ]
  },
  {
   "cell_type": "markdown",
   "metadata": {},
   "source": [
    "### Q2: What Seattle Zipcode has the greatest number of pet licenses?"
   ]
  },
  {
   "cell_type": "code",
   "execution_count": 153,
   "metadata": {},
   "outputs": [
    {
     "name": "stderr",
     "output_type": "stream",
     "text": [
      "C:\\Users\\tbonn\\AppData\\Local\\Temp\\ipykernel_21512\\771592904.py:4: FutureWarning: \n",
      "\n",
      "The `ci` parameter is deprecated. Use `errorbar=None` for the same effect.\n",
      "\n",
      "  sns.barplot(data=zip_counts, x='Zip', y='count', ci=None)\n"
     ]
    },
    {
     "data": {
      "text/plain": [
       "<Axes: xlabel='Zip', ylabel='count'>"
      ]
     },
     "execution_count": 153,
     "metadata": {},
     "output_type": "execute_result"
    },
    {
     "data": {
      "image/png": "[encoded data removed]",
      "text/plain": [
       "<Figure size 640x480 with 1 Axes>"
      ]
     },
     "metadata": {},
     "output_type": "display_data"
    }
   ],
   "source": [
    "## Q2: Pet Licenses by Zip Code\n",
    "zip_counts = dat_clean['Zip'].value_counts().reset_index()\n",
    "\n",
    "sns.barplot(data=zip_counts, x='Zip', y='count', ci=None)"
   ]
  },
  {
   "cell_type": "markdown",
   "metadata": {},
   "source": [
    "### Q3: How does the number of pet licenses change (year over year)?"
   ]
  },
  {
   "cell_type": "code",
   "execution_count": 155,
   "metadata": {},
   "outputs": [
    {
     "name": "stderr",
     "output_type": "stream",
     "text": [
      "C:\\Users\\tbonn\\AppData\\Local\\Temp\\ipykernel_21512\\1475785609.py:4: FutureWarning: \n",
      "\n",
      "The `ci` parameter is deprecated. Use `errorbar=None` for the same effect.\n",
      "\n",
      "  sns.barplot(data=yearly_counts, x='Year', y='count', ci=None)\n"
     ]
    },
    {
     "data": {
      "text/plain": [
       "<Axes: xlabel='Year', ylabel='count'>"
      ]
     },
     "execution_count": 155,
     "metadata": {},
     "output_type": "execute_result"
    },
    {
     "data": {
      "image/png": "[encoded data removed]",
      "text/plain": [
       "<Figure size 640x480 with 1 Axes>"
      ]
     },
     "metadata": {},
     "output_type": "display_data"
    }
   ],
   "source": [
    "## Q3: Pet Licenses by Year\n",
    "yearly_counts = dat_clean['Year'].value_counts().reset_index()\n",
    "\n",
    "sns.barplot(data=yearly_counts, x='Year', y='count', ci=None)"
   ]
  },
  {
   "cell_type": "markdown",
   "metadata": {},
   "source": [
    "### Q4: What are the most popular primary breeds for each species? "
   ]
  },
  {
   "cell_type": "code",
   "execution_count": 145,
   "metadata": {},
   "outputs": [],
   "source": [
    "## Q4: Most Popular Breeds by Species\n",
    "top_breeds_cat = find_top_breed(df=dat_clean, species='Cat', breed_type='Primary_Breed')\n",
    "top_breeds_dog = find_top_breed(df=dat_clean, species='Dog', breed_type='Primary_Breed')\n",
    "top_breeds_goat = find_top_breed(df=dat_clean, species='Goat', breed_type='Primary_Breed')\n",
    "top_breeds_pig = find_top_breed(df=dat_clean, species='Pig', breed_type='Primary_Breed')"
   ]
  }
 ],
 "metadata": {
  "kernelspec": {
   "display_name": "Python 3",
   "language": "python",
   "name": "python3"
  },
  "language_info": {
   "codemirror_mode": {
    "name": "ipython",
    "version": 3
   },
   "file_extension": ".py",
   "mimetype": "text/x-python",
   "name": "python",
   "nbconvert_exporter": "python",
   "pygments_lexer": "ipython3",
   "version": "3.12.0"
  }
 },
 "nbformat": 4,
 "nbformat_minor": 2
}
